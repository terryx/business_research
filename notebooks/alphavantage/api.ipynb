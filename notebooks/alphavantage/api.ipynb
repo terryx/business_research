{
 "cells": [
  {
   "metadata": {
    "collapsed": true
   },
   "cell_type": "code",
   "source": [
    "# Define HTTP request, symbols and functions\n",
    "from helper import load_config, fetch_and_save\n",
    "\n",
    "# Load the configuration\n",
    "config = load_config()\n",
    "\n",
    "api_key, symbols, functions = config['api_key'], config['symbols'], config['functions']"
   ],
   "id": "initial_id",
   "outputs": [],
   "execution_count": null
  },
  {
   "metadata": {},
   "cell_type": "code",
   "source": [
    "# WARNING: Make actual API calls, may expose to API rate limit\n",
    "\n",
    "# Loop through and call the function for each symbol and function\n",
    "for symbol in symbols:\n",
    "    for function in functions:\n",
    "        try:\n",
    "            fetch_and_save(symbol, function, api_key)\n",
    "        except Exception as err:\n",
    "            print(f\"{symbol}, {function}:\\n {err}\")"
   ],
   "id": "474f80d8caba3d3b",
   "outputs": [],
   "execution_count": null
  }
 ],
 "metadata": {
  "kernelspec": {
   "display_name": "Python 3",
   "language": "python",
   "name": "python3"
  },
  "language_info": {
   "codemirror_mode": {
    "name": "ipython",
    "version": 2
   },
   "file_extension": ".py",
   "mimetype": "text/x-python",
   "name": "python",
   "nbconvert_exporter": "python",
   "pygments_lexer": "ipython2",
   "version": "2.7.6"
  }
 },
 "nbformat": 4,
 "nbformat_minor": 5
}
