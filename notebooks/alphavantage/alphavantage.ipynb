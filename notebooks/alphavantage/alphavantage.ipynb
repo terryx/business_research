{
 "cells": [
  {
   "metadata": {
    "collapsed": true
   },
   "cell_type": "code",
   "source": [
    "# Define HTTP request, symbols and functions\n",
    "import json\n",
    "import pandas as pd\n",
    "from helper import load_config, fetch_and_save\n",
    "\n",
    "# Load the configuration\n",
    "config = load_config()\n",
    "\n",
    "api_key, symbols = config['api_key'], config['symbols']\n",
    "\n",
    "functions = ['CASH_FLOW', 'INCOME_STATEMENT', 'BALANCE_SHEET', 'EARNINGS']"
   ],
   "id": "initial_id",
   "outputs": [],
   "execution_count": null
  },
  {
   "metadata": {},
   "cell_type": "code",
   "source": [
    "# WARNING: Make actual API calls, may expose to API rate limit\n",
    "# api_key = os.getenv('API_KEY')\n",
    "\n",
    "# Loop through and call the function for each symbol and function\n",
    "for symbol in symbols:\n",
    "    for function in functions:\n",
    "        fetch_and_save(symbol, function, api_key)"
   ],
   "id": "474f80d8caba3d3b",
   "outputs": [],
   "execution_count": null
  },
  {
   "metadata": {},
   "cell_type": "code",
   "source": [
    "# Consolidate into one report\n",
    "## Dictionary to store the DataFrames\n",
    "report_data_dict = {}\n",
    "\n",
    "for symbol in symbols:\n",
    "     for function in functions:\n",
    "        \n",
    "        file_path = f'../../data/fundamental/{symbol}-{function}.json'\n",
    "        \n",
    "        # Open and load the JSON file\n",
    "        with open(file_path, 'r') as json_file:\n",
    "            data = json.load(json_file)\n",
    "        \n",
    "        # Extract the 'annualReports' data\n",
    "        report_data = data.get('annualReports', [])\n",
    "        \n",
    "        if not report_data:\n",
    "            report_data = data.get('annualEarnings', [])\n",
    "        \n",
    "        # Loop through the report data and reformat it\n",
    "        for item in report_data:\n",
    "            fiscal_date = item.get('fiscalDateEnding')\n",
    "            # Add each key-value pair to the dictionary\n",
    "            for key, value in item.items():\n",
    "                if key != 'fiscalDateEnding':\n",
    "                    if key not in report_data_dict:\n",
    "                        report_data_dict[key] = {}\n",
    "                    report_data_dict[key][fiscal_date] = value\n",
    "        \n",
    "        # Convert the dictionary to a DataFrame\n",
    "        df = pd.DataFrame(report_data_dict).T\n",
    "        \n",
    "        # original_df = df.copy()\n",
    "        \n",
    "        df = df.apply(pd.to_numeric, errors='coerce')\n",
    "        \n",
    "        df = df.fillna(0)\n",
    "        \n",
    "        df.to_json(f'../../data/consolidated/{symbol}.json', indent=4)"
   ],
   "id": "2361294fb0f42600",
   "outputs": [],
   "execution_count": null
  }
 ],
 "metadata": {
  "kernelspec": {
   "display_name": "Python 3",
   "language": "python",
   "name": "python3"
  },
  "language_info": {
   "codemirror_mode": {
    "name": "ipython",
    "version": 2
   },
   "file_extension": ".py",
   "mimetype": "text/x-python",
   "name": "python",
   "nbconvert_exporter": "python",
   "pygments_lexer": "ipython2",
   "version": "2.7.6"
  }
 },
 "nbformat": 4,
 "nbformat_minor": 5
}
